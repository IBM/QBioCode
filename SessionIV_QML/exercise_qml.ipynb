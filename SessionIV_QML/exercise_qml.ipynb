{
 "cells": [
  {
   "cell_type": "markdown",
   "metadata": {},
   "source": [
    "# Exercise: Quantum machine learning on lower-dimensional single-cell RNAseq data\n",
    "\n",
    "We will consider Breast Cancer multi-omics data in this exercise and use it to classify breast cancer subtypes Luminal A and Luminal B. \n",
    "\n",
    "We obtained 545 breast cancer samples from TCGA for which both RNAseq and Methylation450 data were available. The dataset consisted of 414 Luminal-A and 141 Luminal-B samples. We considered 28,495 genes and 363,791 methylation sites for a total of 392,286 features. We concatenated the RNAseq and Methylation450 data and projected them to a 10-dimensional space using PCA.  "
   ]
  },
  {
   "cell_type": "markdown",
   "metadata": {},
   "source": [
    "Perform the experiments from the other notebook and use it to classify Luminal A vs. Luminal B and report the results. "
   ]
  },
  {
   "cell_type": "markdown",
   "metadata": {},
   "source": [
    "Data can be found in the the `../data/BrCa` subdirectory. "
   ]
  },
  {
   "cell_type": "code",
   "execution_count": 1,
   "metadata": {},
   "outputs": [],
   "source": [
    "#your code here\n"
   ]
  }
 ],
 "metadata": {
  "kernelspec": {
   "display_name": "Python 3",
   "language": "python",
   "name": "python3"
  },
  "language_info": {
   "codemirror_mode": {
    "name": "ipython",
    "version": 3
   },
   "file_extension": ".py",
   "mimetype": "text/x-python",
   "name": "python",
   "nbconvert_exporter": "python",
   "pygments_lexer": "ipython3",
   "version": "3.11.9"
  }
 },
 "nbformat": 4,
 "nbformat_minor": 2
}
